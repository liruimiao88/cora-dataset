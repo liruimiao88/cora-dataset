{
 "cells": [
  {
   "cell_type": "markdown",
   "id": "cc9ea5a2",
   "metadata": {},
   "source": [
    "### 安装pip基础库"
   ]
  },
  {
   "cell_type": "code",
   "execution_count": 2,
   "id": "7b873540",
   "metadata": {},
   "outputs": [
    {
     "name": "stdout",
     "output_type": "stream",
     "text": [
      "Looking in indexes: https://mirrors.ustc.edu.cn/pypi/simple\n",
      "Requirement already satisfied: jax in /home/kemna/competition/.venv/lib/python3.13/site-packages (0.8.0)\n",
      "Requirement already satisfied: datasets in /home/kemna/competition/.venv/lib/python3.13/site-packages (4.2.0)\n",
      "Requirement already satisfied: flax in /home/kemna/competition/.venv/lib/python3.13/site-packages (0.12.0)\n",
      "Requirement already satisfied: onnx in /home/kemna/competition/.venv/lib/python3.13/site-packages (1.19.1)\n",
      "Requirement already satisfied: optax in /home/kemna/competition/.venv/lib/python3.13/site-packages (0.2.6)\n",
      "Collecting matplotlib\n",
      "  Downloading https://mirrors.ustc.edu.cn/pypi/packages/22/ff/6425bf5c20d79aa5b959d1ce9e65f599632345391381c9a104133fe0b171/matplotlib-3.10.7-cp313-cp313-manylinux2014_x86_64.manylinux_2_17_x86_64.whl (8.7 MB)\n",
      "\u001b[2K     \u001b[90m━━━━━━━━━━━━━━━━━━━━━━━━━━━━━━━━━━━━━━━━\u001b[0m \u001b[32m8.7/8.7 MB\u001b[0m \u001b[31m11.3 MB/s\u001b[0m  \u001b[33m0:00:00\u001b[0m eta \u001b[36m0:00:01\u001b[0m\n",
      "\u001b[?25hRequirement already satisfied: jaxlib<=0.8.0,>=0.8.0 in /home/kemna/competition/.venv/lib/python3.13/site-packages (from jax) (0.8.0)\n",
      "Requirement already satisfied: ml_dtypes>=0.5.0 in /home/kemna/competition/.venv/lib/python3.13/site-packages (from jax) (0.5.3)\n",
      "Requirement already satisfied: numpy>=2.0 in /home/kemna/competition/.venv/lib/python3.13/site-packages (from jax) (2.3.4)\n",
      "Requirement already satisfied: opt_einsum in /home/kemna/competition/.venv/lib/python3.13/site-packages (from jax) (3.4.0)\n",
      "Requirement already satisfied: scipy>=1.13 in /home/kemna/competition/.venv/lib/python3.13/site-packages (from jax) (1.16.2)\n",
      "Requirement already satisfied: filelock in /home/kemna/competition/.venv/lib/python3.13/site-packages (from datasets) (3.20.0)\n",
      "Requirement already satisfied: pyarrow>=21.0.0 in /home/kemna/competition/.venv/lib/python3.13/site-packages (from datasets) (21.0.0)\n",
      "Requirement already satisfied: dill<0.4.1,>=0.3.0 in /home/kemna/competition/.venv/lib/python3.13/site-packages (from datasets) (0.4.0)\n",
      "Requirement already satisfied: pandas in /home/kemna/competition/.venv/lib/python3.13/site-packages (from datasets) (2.3.3)\n",
      "Requirement already satisfied: requests>=2.32.2 in /home/kemna/competition/.venv/lib/python3.13/site-packages (from datasets) (2.32.5)\n",
      "Requirement already satisfied: httpx<1.0.0 in /home/kemna/competition/.venv/lib/python3.13/site-packages (from datasets) (0.28.1)\n",
      "Requirement already satisfied: tqdm>=4.66.3 in /home/kemna/competition/.venv/lib/python3.13/site-packages (from datasets) (4.67.1)\n",
      "Requirement already satisfied: xxhash in /home/kemna/competition/.venv/lib/python3.13/site-packages (from datasets) (3.6.0)\n",
      "Requirement already satisfied: multiprocess<0.70.17 in /home/kemna/competition/.venv/lib/python3.13/site-packages (from datasets) (0.70.16)\n",
      "Requirement already satisfied: fsspec<=2025.9.0,>=2023.1.0 in /home/kemna/competition/.venv/lib/python3.13/site-packages (from fsspec[http]<=2025.9.0,>=2023.1.0->datasets) (2025.9.0)\n",
      "Requirement already satisfied: huggingface-hub<2.0,>=0.25.0 in /home/kemna/competition/.venv/lib/python3.13/site-packages (from datasets) (0.35.3)\n",
      "Requirement already satisfied: packaging in /home/kemna/competition/.venv/lib/python3.13/site-packages (from datasets) (25.0)\n",
      "Requirement already satisfied: pyyaml>=5.1 in /home/kemna/competition/.venv/lib/python3.13/site-packages (from datasets) (6.0.3)\n",
      "Requirement already satisfied: aiohttp!=4.0.0a0,!=4.0.0a1 in /home/kemna/competition/.venv/lib/python3.13/site-packages (from fsspec[http]<=2025.9.0,>=2023.1.0->datasets) (3.13.1)\n",
      "Requirement already satisfied: anyio in /home/kemna/competition/.venv/lib/python3.13/site-packages (from httpx<1.0.0->datasets) (4.11.0)\n",
      "Requirement already satisfied: certifi in /home/kemna/competition/.venv/lib/python3.13/site-packages (from httpx<1.0.0->datasets) (2025.10.5)\n",
      "Requirement already satisfied: httpcore==1.* in /home/kemna/competition/.venv/lib/python3.13/site-packages (from httpx<1.0.0->datasets) (1.0.9)\n",
      "Requirement already satisfied: idna in /home/kemna/competition/.venv/lib/python3.13/site-packages (from httpx<1.0.0->datasets) (3.11)\n",
      "Requirement already satisfied: h11>=0.16 in /home/kemna/competition/.venv/lib/python3.13/site-packages (from httpcore==1.*->httpx<1.0.0->datasets) (0.16.0)\n",
      "Requirement already satisfied: typing-extensions>=3.7.4.3 in /home/kemna/competition/.venv/lib/python3.13/site-packages (from huggingface-hub<2.0,>=0.25.0->datasets) (4.15.0)\n",
      "Requirement already satisfied: hf-xet<2.0.0,>=1.1.3 in /home/kemna/competition/.venv/lib/python3.13/site-packages (from huggingface-hub<2.0,>=0.25.0->datasets) (1.1.10)\n",
      "Requirement already satisfied: msgpack in /home/kemna/competition/.venv/lib/python3.13/site-packages (from flax) (1.1.2)\n",
      "Requirement already satisfied: orbax-checkpoint in /home/kemna/competition/.venv/lib/python3.13/site-packages (from flax) (0.11.25)\n",
      "Requirement already satisfied: tensorstore in /home/kemna/competition/.venv/lib/python3.13/site-packages (from flax) (0.1.78)\n",
      "Requirement already satisfied: rich>=11.1 in /home/kemna/competition/.venv/lib/python3.13/site-packages (from flax) (14.2.0)\n",
      "Requirement already satisfied: treescope>=0.1.7 in /home/kemna/competition/.venv/lib/python3.13/site-packages (from flax) (0.1.10)\n",
      "Requirement already satisfied: protobuf>=4.25.1 in /home/kemna/competition/.venv/lib/python3.13/site-packages (from onnx) (6.32.1)\n",
      "Requirement already satisfied: absl-py>=0.7.1 in /home/kemna/competition/.venv/lib/python3.13/site-packages (from optax) (2.3.1)\n",
      "Requirement already satisfied: chex>=0.1.87 in /home/kemna/competition/.venv/lib/python3.13/site-packages (from optax) (0.1.91)\n",
      "Collecting contourpy>=1.0.1 (from matplotlib)\n",
      "  Downloading https://mirrors.ustc.edu.cn/pypi/packages/4b/32/e0f13a1c5b0f8572d0ec6ae2f6c677b7991fafd95da523159c19eff0696a/contourpy-1.3.3-cp313-cp313-manylinux_2_27_x86_64.manylinux_2_28_x86_64.whl (362 kB)\n",
      "Collecting cycler>=0.10 (from matplotlib)\n",
      "  Downloading https://mirrors.ustc.edu.cn/pypi/packages/e7/05/c19819d5e3d95294a6f5947fb9b9629efb316b96de511b418c53d245aae6/cycler-0.12.1-py3-none-any.whl (8.3 kB)\n",
      "Collecting fonttools>=4.22.0 (from matplotlib)\n",
      "  Downloading https://mirrors.ustc.edu.cn/pypi/packages/2d/8b/371ab3cec97ee3fe1126b3406b7abd60c8fec8975fd79a3c75cdea0c3d83/fonttools-4.60.1-cp313-cp313-manylinux1_x86_64.manylinux2014_x86_64.manylinux_2_17_x86_64.manylinux_2_5_x86_64.whl (4.9 MB)\n",
      "\u001b[2K     \u001b[90m━━━━━━━━━━━━━━━━━━━━━━━━━━━━━━━━━━━━━━━━\u001b[0m \u001b[32m4.9/4.9 MB\u001b[0m \u001b[31m10.9 MB/s\u001b[0m  \u001b[33m0:00:00\u001b[0m eta \u001b[36m0:00:01\u001b[0m\n",
      "\u001b[?25hCollecting kiwisolver>=1.3.1 (from matplotlib)\n",
      "  Downloading https://mirrors.ustc.edu.cn/pypi/packages/e9/e9/f218a2cb3a9ffbe324ca29a9e399fa2d2866d7f348ec3a88df87fc248fc5/kiwisolver-1.4.9-cp313-cp313-manylinux2014_x86_64.manylinux_2_17_x86_64.whl (1.5 MB)\n",
      "\u001b[2K     \u001b[90m━━━━━━━━━━━━━━━━━━━━━━━━━━━━━━━━━━━━━━━━\u001b[0m \u001b[32m1.5/1.5 MB\u001b[0m \u001b[31m11.1 MB/s\u001b[0m  \u001b[33m0:00:00\u001b[0m\n",
      "\u001b[?25hRequirement already satisfied: pillow>=8 in /home/kemna/competition/.venv/lib/python3.13/site-packages (from matplotlib) (11.3.0)\n",
      "Collecting pyparsing>=3 (from matplotlib)\n",
      "  Downloading https://mirrors.ustc.edu.cn/pypi/packages/10/5e/1aa9a93198c6b64513c9d7752de7422c06402de6600a8767da1524f9570b/pyparsing-3.2.5-py3-none-any.whl (113 kB)\n",
      "Requirement already satisfied: python-dateutil>=2.7 in /home/kemna/competition/.venv/lib/python3.13/site-packages (from matplotlib) (2.9.0.post0)\n",
      "Requirement already satisfied: aiohappyeyeballs>=2.5.0 in /home/kemna/competition/.venv/lib/python3.13/site-packages (from aiohttp!=4.0.0a0,!=4.0.0a1->fsspec[http]<=2025.9.0,>=2023.1.0->datasets) (2.6.1)\n",
      "Requirement already satisfied: aiosignal>=1.4.0 in /home/kemna/competition/.venv/lib/python3.13/site-packages (from aiohttp!=4.0.0a0,!=4.0.0a1->fsspec[http]<=2025.9.0,>=2023.1.0->datasets) (1.4.0)\n",
      "Requirement already satisfied: attrs>=17.3.0 in /home/kemna/competition/.venv/lib/python3.13/site-packages (from aiohttp!=4.0.0a0,!=4.0.0a1->fsspec[http]<=2025.9.0,>=2023.1.0->datasets) (25.4.0)\n",
      "Requirement already satisfied: frozenlist>=1.1.1 in /home/kemna/competition/.venv/lib/python3.13/site-packages (from aiohttp!=4.0.0a0,!=4.0.0a1->fsspec[http]<=2025.9.0,>=2023.1.0->datasets) (1.8.0)\n",
      "Requirement already satisfied: multidict<7.0,>=4.5 in /home/kemna/competition/.venv/lib/python3.13/site-packages (from aiohttp!=4.0.0a0,!=4.0.0a1->fsspec[http]<=2025.9.0,>=2023.1.0->datasets) (6.7.0)\n",
      "Requirement already satisfied: propcache>=0.2.0 in /home/kemna/competition/.venv/lib/python3.13/site-packages (from aiohttp!=4.0.0a0,!=4.0.0a1->fsspec[http]<=2025.9.0,>=2023.1.0->datasets) (0.4.1)\n",
      "Requirement already satisfied: yarl<2.0,>=1.17.0 in /home/kemna/competition/.venv/lib/python3.13/site-packages (from aiohttp!=4.0.0a0,!=4.0.0a1->fsspec[http]<=2025.9.0,>=2023.1.0->datasets) (1.22.0)\n",
      "Requirement already satisfied: toolz>=1.0.0 in /home/kemna/competition/.venv/lib/python3.13/site-packages (from chex>=0.1.87->optax) (1.1.0)\n",
      "Requirement already satisfied: six>=1.5 in /home/kemna/competition/.venv/lib/python3.13/site-packages (from python-dateutil>=2.7->matplotlib) (1.17.0)\n",
      "Requirement already satisfied: charset_normalizer<4,>=2 in /home/kemna/competition/.venv/lib/python3.13/site-packages (from requests>=2.32.2->datasets) (3.4.4)\n",
      "Requirement already satisfied: urllib3<3,>=1.21.1 in /home/kemna/competition/.venv/lib/python3.13/site-packages (from requests>=2.32.2->datasets) (2.5.0)\n",
      "Requirement already satisfied: markdown-it-py>=2.2.0 in /home/kemna/competition/.venv/lib/python3.13/site-packages (from rich>=11.1->flax) (4.0.0)\n",
      "Requirement already satisfied: pygments<3.0.0,>=2.13.0 in /home/kemna/competition/.venv/lib/python3.13/site-packages (from rich>=11.1->flax) (2.19.2)\n",
      "Requirement already satisfied: mdurl~=0.1 in /home/kemna/competition/.venv/lib/python3.13/site-packages (from markdown-it-py>=2.2.0->rich>=11.1->flax) (0.1.2)\n",
      "Requirement already satisfied: sniffio>=1.1 in /home/kemna/competition/.venv/lib/python3.13/site-packages (from anyio->httpx<1.0.0->datasets) (1.3.1)\n",
      "Requirement already satisfied: etils[epath,epy] in /home/kemna/competition/.venv/lib/python3.13/site-packages (from orbax-checkpoint->flax) (1.13.0)\n",
      "Requirement already satisfied: nest_asyncio in /home/kemna/competition/.venv/lib/python3.13/site-packages (from orbax-checkpoint->flax) (1.6.0)\n",
      "Requirement already satisfied: aiofiles in /home/kemna/competition/.venv/lib/python3.13/site-packages (from orbax-checkpoint->flax) (25.1.0)\n",
      "Requirement already satisfied: humanize in /home/kemna/competition/.venv/lib/python3.13/site-packages (from orbax-checkpoint->flax) (4.14.0)\n",
      "Requirement already satisfied: simplejson>=3.16.0 in /home/kemna/competition/.venv/lib/python3.13/site-packages (from orbax-checkpoint->flax) (3.20.2)\n",
      "Requirement already satisfied: importlib_resources in /home/kemna/competition/.venv/lib/python3.13/site-packages (from etils[epath,epy]->orbax-checkpoint->flax) (6.5.2)\n",
      "Requirement already satisfied: zipp in /home/kemna/competition/.venv/lib/python3.13/site-packages (from etils[epath,epy]->orbax-checkpoint->flax) (3.23.0)\n",
      "Requirement already satisfied: pytz>=2020.1 in /home/kemna/competition/.venv/lib/python3.13/site-packages (from pandas->datasets) (2025.2)\n",
      "Requirement already satisfied: tzdata>=2022.7 in /home/kemna/competition/.venv/lib/python3.13/site-packages (from pandas->datasets) (2025.2)\n",
      "Installing collected packages: pyparsing, kiwisolver, fonttools, cycler, contourpy, matplotlib\n",
      "\u001b[2K   \u001b[90m━━━━━━━━━━━━━━━━━━━━━━━━━━━━━━━━━━━━━━━━\u001b[0m \u001b[32m6/6\u001b[0m [matplotlib]6\u001b[0m [matplotlib]\n",
      "\u001b[1A\u001b[2KSuccessfully installed contourpy-1.3.3 cycler-0.12.1 fonttools-4.60.1 kiwisolver-1.4.9 matplotlib-3.10.7 pyparsing-3.2.5\n"
     ]
    }
   ],
   "source": [
    "!pip install jax datasets flax onnx optax matplotlib"
   ]
  },
  {
   "cell_type": "markdown",
   "id": "0138136a",
   "metadata": {},
   "source": [
    "### 介绍一下JAX Flax生态\n",
    "#### 1.函数式编程\n",
    "    简单的说，函数是第一等公民\n",
    "函数与其他数据类型处于平等地位，我们可以将函数赋值给变量，也可以将其作为参数传入其他函数，将它们存储在其他数据结构（如 dicts）中，并将它们作为其他函数的返回值。\n",
    "##### 函数作为对象\n",
    "请看下面的代码：\n",
    "可以看到，我们将函数作为对象赋值给变量，然后调用了这个变量。"
   ]
  },
  {
   "cell_type": "code",
   "execution_count": 17,
   "id": "4dd83c02",
   "metadata": {},
   "outputs": [
    {
     "name": "stdout",
     "output_type": "stream",
     "text": [
      "Hello, world!\n"
     ]
    }
   ],
   "source": [
    "def helloworld():\n",
    "    print(\"Hello, world!\")\n",
    "\n",
    "test = helloworld\n",
    "test()"
   ]
  },
  {
   "cell_type": "markdown",
   "id": "295de2fd",
   "metadata": {},
   "source": [
    "#### 将对象作为函数\n",
    "将一个Object直接调用，之需要实现一个叫__call__的方法\n",
    "如下面代码所示："
   ]
  },
  {
   "cell_type": "code",
   "execution_count": 21,
   "id": "529b102b",
   "metadata": {},
   "outputs": [
    {
     "name": "stdout",
     "output_type": "stream",
     "text": [
      "My name is Kemna,I am 19 years old.\n"
     ]
    }
   ],
   "source": [
    "class Test:\n",
    "    def __init__(self,name):\n",
    "        self.name = name\n",
    "    def __call__(self,age):\n",
    "        print(f\"My name is {self.name},I am {age} years old.\")\n",
    "p = Test(\"Kemna\")\n",
    "p(19)"
   ]
  },
  {
   "cell_type": "markdown",
   "id": "0fce54fe",
   "metadata": {},
   "source": [
    "#### 函数用于数据结构\n",
    "函数也可以用在其他数据结构里面\n",
    "看下面的代码："
   ]
  },
  {
   "cell_type": "code",
   "execution_count": null,
   "id": "44573661",
   "metadata": {},
   "outputs": [
    {
     "name": "stdout",
     "output_type": "stream",
     "text": [
      "My name is Kemna,I am 10 years old.\n",
      "None\n",
      "<function helloworld at 0x7f74943f16c0>\n"
     ]
    }
   ],
   "source": [
    "mapping = {\n",
    "    0: helloworld,\n",
    "    1:p(10)\n",
    "}\n",
    "\n",
    "x = mapping[1]\n",
    "y = mapping[0]\n",
    "\n",
    "print(x)\n",
    "print(y)"
   ]
  },
  {
   "cell_type": "markdown",
   "id": "48322c69",
   "metadata": {},
   "source": [
    "接下来我们以MNIST数据集为例，介绍如何使用JAX生态进行训练"
   ]
  },
  {
   "cell_type": "markdown",
   "id": "7d50b0a1",
   "metadata": {},
   "source": [
    "### 导入mnist数据集"
   ]
  },
  {
   "cell_type": "code",
   "execution_count": 5,
   "id": "3dae70ca",
   "metadata": {},
   "outputs": [
    {
     "name": "stdout",
     "output_type": "stream",
     "text": [
      "['train', 'test']\n",
      "Label: 5\n",
      "image shape: (28, 28)\n"
     ]
    },
    {
     "data": {
      "image/png": "[encoded data removed]",
      "text/plain": [
       "<Figure size 640x480 with 1 Axes>"
      ]
     },
     "metadata": {},
     "output_type": "display_data"
    }
   ],
   "source": [
    "from datasets import load_dataset,get_dataset_split_names\n",
    "import jax\n",
    "import jax.numpy as jnp\n",
    "import matplotlib.pyplot as plt\n",
    "dataset = load_dataset(\"ylecun/mnist\")\n",
    "# 在huggingface中，这个数据集被切割成了三个部分\n",
    "spilts = get_dataset_split_names(\"ylecun/mnist\")\n",
    "print(spilts)\n",
    "#查看一个样本\n",
    "train_data = dataset[\"train\"]\n",
    "image = train_data[0][\"image\"]\n",
    "label = train_data[0][\"label\"]\n",
    "#显示图像\n",
    "print(f\"Label: {label}\")\n",
    "image = jnp.array(image)\n",
    "print(f\"image shape: {image.shape}\")\n",
    "plt.imshow(image, cmap='gray')\n",
    "plt.title(f\"Label: {label}\")\n",
    "plt.show()"
   ]
  },
  {
   "cell_type": "markdown",
   "id": "34ea399d",
   "metadata": {},
   "source": [
    "### 定义神经网络\n",
    "导入的是一个简单的神经网络：cnn"
   ]
  },
  {
   "cell_type": "code",
   "execution_count": 6,
   "id": "6381597f",
   "metadata": {},
   "outputs": [],
   "source": [
    "from flax import linen as nn\n",
    "class CNN(nn.Module):\n",
    "  \"\"\"A simple CNN model.\"\"\"\n",
    "  @nn.compact\n",
    "  def __call__(self, x):\n",
    "    x = nn.Conv(features=32, kernel_size=(3, 3))(x)\n",
    "    x = nn.relu(x)\n",
    "    x = nn.avg_pool(x, window_shape=(2, 2), strides=(2, 2))\n",
    "    x = nn.Conv(features=64, kernel_size=(3, 3))(x)\n",
    "    x = nn.relu(x)\n",
    "    x = nn.avg_pool(x, window_shape=(2, 2), strides=(2, 2))\n",
    "    x = x.reshape((x.shape[0], -1))  # flatten\n",
    "    x = nn.Dense(features=256)(x)\n",
    "    x = nn.relu(x)\n",
    "    x = nn.Dense(features=10)(x)\n",
    "    return x"
   ]
  },
  {
   "cell_type": "markdown",
   "id": "194ad9cc",
   "metadata": {},
   "source": [
    "其模型层级结构可以这么查看"
   ]
  },
  {
   "cell_type": "code",
   "execution_count": null,
   "id": "dca3df37",
   "metadata": {},
   "outputs": [
    {
     "name": "stdout",
     "output_type": "stream",
     "text": [
      "\n",
      "\u001b[3m                                  CNN Summary                                   \u001b[0m\n",
      "┏━━━━━━━━━┳━━━━━━━━┳━━━━━━━━━━━━┳━━━━━━━━━━━┳━━━━━━━━━┳━━━━━━━━━━━┳━━━━━━━━━━━━┓\n",
      "┃\u001b[1m \u001b[0m\u001b[1mpath   \u001b[0m\u001b[1m \u001b[0m┃\u001b[1m \u001b[0m\u001b[1mmodule\u001b[0m\u001b[1m \u001b[0m┃\u001b[1m \u001b[0m\u001b[1minputs    \u001b[0m\u001b[1m \u001b[0m┃\u001b[1m \u001b[0m\u001b[1moutputs  \u001b[0m\u001b[1m \u001b[0m┃\u001b[1m \u001b[0m\u001b[1mflops  \u001b[0m\u001b[1m \u001b[0m┃\u001b[1m \u001b[0m\u001b[1mvjp_flops\u001b[0m\u001b[1m \u001b[0m┃\u001b[1m \u001b[0m\u001b[1mparams    \u001b[0m\u001b[1m \u001b[0m┃\n",
      "┡━━━━━━━━━╇━━━━━━━━╇━━━━━━━━━━━━╇━━━━━━━━━━━╇━━━━━━━━━╇━━━━━━━━━━━╇━━━━━━━━━━━━┩\n",
      "│         │ CNN    │ \u001b[2mfloat32\u001b[0m[1… │ \u001b[2mfloat32\u001b[0m[… │ 8708106 │ 26957556  │            │\n",
      "├─────────┼────────┼────────────┼───────────┼─────────┼───────────┼────────────┤\n",
      "│ Conv_0  │ Conv   │ \u001b[2mfloat32\u001b[0m[1… │ \u001b[2mfloat32\u001b[0m[… │ 455424  │ 1341472   │ bias:      │\n",
      "│         │        │            │           │         │           │ \u001b[2mfloat32\u001b[0m[3… │\n",
      "│         │        │            │           │         │           │ kernel:    │\n",
      "│         │        │            │           │         │           │ \u001b[2mfloat32\u001b[0m[3… │\n",
      "│         │        │            │           │         │           │            │\n",
      "│         │        │            │           │         │           │ \u001b[1m320 \u001b[0m\u001b[1;2m(1.3 \u001b[0m  │\n",
      "│         │        │            │           │         │           │ \u001b[1;2mKB)\u001b[0m        │\n",
      "├─────────┼────────┼────────────┼───────────┼─────────┼───────────┼────────────┤\n",
      "│ Conv_1  │ Conv   │ \u001b[2mfloat32\u001b[0m[1… │ \u001b[2mfloat32\u001b[0m[… │ 6566144 │ 19704320  │ bias:      │\n",
      "│         │        │            │           │         │           │ \u001b[2mfloat32\u001b[0m[6… │\n",
      "│         │        │            │           │         │           │ kernel:    │\n",
      "│         │        │            │           │         │           │ \u001b[2mfloat32\u001b[0m[3… │\n",
      "│         │        │            │           │         │           │            │\n",
      "│         │        │            │           │         │           │ \u001b[1m18,496 \u001b[0m    │\n",
      "│         │        │            │           │         │           │ \u001b[1;2m(74.0 KB)\u001b[0m  │\n",
      "├─────────┼────────┼────────────┼───────────┼─────────┼───────────┼────────────┤\n",
      "│ Dense_0 │ Dense  │ \u001b[2mfloat32\u001b[0m[1… │ \u001b[2mfloat32\u001b[0m[… │ 1605888 │ 5620224   │ bias:      │\n",
      "│         │        │            │           │         │           │ \u001b[2mfloat32\u001b[0m[2… │\n",
      "│         │        │            │           │         │           │ kernel:    │\n",
      "│         │        │            │           │         │           │ \u001b[2mfloat32\u001b[0m[3… │\n",
      "│         │        │            │           │         │           │            │\n",
      "│         │        │            │           │         │           │ \u001b[1m803,072 \u001b[0m   │\n",
      "│         │        │            │           │         │           │ \u001b[1;2m(3.2 MB)\u001b[0m   │\n",
      "├─────────┼────────┼────────────┼───────────┼─────────┼───────────┼────────────┤\n",
      "│ Dense_1 │ Dense  │ \u001b[2mfloat32\u001b[0m[1… │ \u001b[2mfloat32\u001b[0m[… │ 5130    │ 17940     │ bias:      │\n",
      "│         │        │            │           │         │           │ \u001b[2mfloat32\u001b[0m[1… │\n",
      "│         │        │            │           │         │           │ kernel:    │\n",
      "│         │        │            │           │         │           │ \u001b[2mfloat32\u001b[0m[2… │\n",
      "│         │        │            │           │         │           │            │\n",
      "│         │        │            │           │         │           │ \u001b[1m2,570 \u001b[0m     │\n",
      "│         │        │            │           │         │           │ \u001b[1;2m(10.3 KB)\u001b[0m  │\n",
      "├─────────┼────────┼────────────┼───────────┼─────────┼───────────┼────────────┤\n",
      "│\u001b[1m \u001b[0m\u001b[1m       \u001b[0m\u001b[1m \u001b[0m│\u001b[1m \u001b[0m\u001b[1m      \u001b[0m\u001b[1m \u001b[0m│\u001b[1m \u001b[0m\u001b[1m          \u001b[0m\u001b[1m \u001b[0m│\u001b[1m \u001b[0m\u001b[1m         \u001b[0m\u001b[1m \u001b[0m│\u001b[1m \u001b[0m\u001b[1m       \u001b[0m\u001b[1m \u001b[0m│\u001b[1m \u001b[0m\u001b[1m    Total\u001b[0m\u001b[1m \u001b[0m│\u001b[1m \u001b[0m\u001b[1m824,458   \u001b[0m\u001b[1m \u001b[0m│\n",
      "│\u001b[1m         \u001b[0m│\u001b[1m        \u001b[0m│\u001b[1m            \u001b[0m│\u001b[1m           \u001b[0m│\u001b[1m         \u001b[0m│\u001b[1m           \u001b[0m│\u001b[1m \u001b[0m\u001b[1;2m(3.3 MB)\u001b[0m\u001b[1m  \u001b[0m\u001b[1m \u001b[0m│\n",
      "└─────────┴────────┴────────────┴───────────┴─────────┴───────────┴────────────┘\n",
      "\u001b[1m                                                                                \u001b[0m\n",
      "\u001b[1m                       Total Parameters: 824,458 \u001b[0m\u001b[1;2m(3.3 MB)\u001b[0m\u001b[1m                       \u001b[0m\n",
      "\n",
      "\n"
     ]
    }
   ],
   "source": [
    "import jax\n",
    "import jax.numpy as jnp  # JAX NumPy\n",
    "cnn = CNN()\n",
    "print(cnn.tabulate(jax.random.key(0), jnp.ones((1, 28, 28, 1)),\n",
    "                   compute_flops=True, compute_vjp_flops=True))"
   ]
  },
  {
   "cell_type": "markdown",
   "id": "e5d4aff7",
   "metadata": {},
   "source": [
    "### 计算参数"
   ]
  },
  {
   "cell_type": "code",
   "execution_count": null,
   "id": "d791af76",
   "metadata": {},
   "outputs": [],
   "source": [
    "#计算参数\n",
    "@struct.dataclass\n",
    "class Metrics(metrics.Collection):\n",
    "  accuracy: metrics.Accuracy\n",
    "  loss: metrics.Average.from_output('loss')\n",
    "@jax.jit\n",
    "def compute_metrics(*, state, batch):\n",
    "  logits = state.apply_fn({'params': state.params}, batch['image'])\n",
    "  loss = optax.softmax_cross_entropy_with_integer_labels(\n",
    "        logits=logits, labels=batch['label']).mean()\n",
    "  metric_updates = state.metrics.single_from_model_output(\n",
    "    logits=logits, labels=batch['label'], loss=loss)\n",
    "  metrics = state.metrics.merge(metric_updates)\n",
    "  state = state.replace(metrics=metrics)\n",
    "  return state"
   ]
  },
  {
   "cell_type": "markdown",
   "id": "84e7d796",
   "metadata": {},
   "source": [
    "### 训练状态创建"
   ]
  },
  {
   "cell_type": "code",
   "execution_count": null,
   "id": "002ba4e1",
   "metadata": {},
   "outputs": [
    {
     "ename": "NameError",
     "evalue": "name 'train_state' is not defined",
     "output_type": "error",
     "traceback": [
      "\u001b[31m---------------------------------------------------------------------------\u001b[39m",
      "\u001b[31mNameError\u001b[39m                                 Traceback (most recent call last)",
      "\u001b[36mCell\u001b[39m\u001b[36m \u001b[39m\u001b[32mIn[25]\u001b[39m\u001b[32m, line 1\u001b[39m\n\u001b[32m----> \u001b[39m\u001b[32m1\u001b[39m \u001b[38;5;28;01mclass\u001b[39;00m\u001b[38;5;250m \u001b[39m\u001b[34;01mTrainState\u001b[39;00m(\u001b[43mtrain_state\u001b[49m.TrainState):\n\u001b[32m      2\u001b[39m   metrics: Metrics\n\u001b[32m      4\u001b[39m \u001b[38;5;28;01mdef\u001b[39;00m\u001b[38;5;250m \u001b[39m\u001b[34mcreate_train_state\u001b[39m(module, rng, learning_rate, momentum):\n",
      "\u001b[31mNameError\u001b[39m: name 'train_state' is not defined"
     ]
    }
   ],
   "source": [
    "#训练状态\n",
    "class TrainState(train_state.TrainState):\n",
    "  metrics: metrics\n",
    "\n",
    "def create_train_state(module, rng, learning_rate, momentum):\n",
    "  \"\"\"Creates an initial `TrainState`.\"\"\"\n",
    "  params = module.init(rng, jnp.ones([1, 28, 28, 1]))['params'] # initialize parameters by passing a template image\n",
    "  tx = optax.sgd(learning_rate, momentum)\n",
    "  return TrainState.create(\n",
    "      apply_fn=module.apply, params=params, tx=tx,\n",
    "      metrics=Metrics.empty())"
   ]
  },
  {
   "cell_type": "markdown",
   "id": "8848650f",
   "metadata": {},
   "source": [
    "### 定义训练过程"
   ]
  },
  {
   "cell_type": "code",
   "execution_count": 24,
   "id": "74ea472a",
   "metadata": {},
   "outputs": [],
   "source": [
    "@jax.jit\n",
    "def train_step(state, batch):\n",
    "  \"\"\"Train for a single step.\"\"\"\n",
    "  def loss_fn(params):\n",
    "    logits = state.apply_fn({'params': params}, batch['image'])\n",
    "    loss = optax.softmax_cross_entropy_with_integer_labels(\n",
    "        logits=logits, labels=batch['label']).mean()\n",
    "    return loss\n",
    "  grad_fn = jax.grad(loss_fn)\n",
    "  grads = grad_fn(state.params)\n",
    "  state = state.apply_gradients(grads=grads)\n",
    "  return state"
   ]
  },
  {
   "cell_type": "markdown",
   "id": "c973f929",
   "metadata": {},
   "source": [
    "### 设置随机种子/训练轮次/batch_size"
   ]
  },
  {
   "cell_type": "code",
   "execution_count": null,
   "id": "df74967a",
   "metadata": {},
   "outputs": [],
   "source": [
    "num_epochs = 10\n",
    "batch_size = 32\n",
    "key = random.PRNGKey(42)\n",
    "learning_rate = 1e-4\n",
    "momentum = 0.9\n",
    "state = create_train_state(cnn, init_rng, learning_rate, momentum)\n",
    "del init_rng  # Must not be used anymore.\n",
    "num_steps_per_epoch = train_data.cardinality().numpy() // num_epochs\n",
    "metrics_history = {'train_loss': [],\n",
    "                   'train_accuracy': [],\n",
    "                   'test_loss': [],\n",
    "                   'test_accuracy': []}\n"
   ]
  },
  {
   "cell_type": "markdown",
   "id": "2336f7b0",
   "metadata": {},
   "source": [
    "## 定义训练循环"
   ]
  },
  {
   "cell_type": "code",
   "execution_count": null,
   "id": "eb70f24f",
   "metadata": {},
   "outputs": [],
   "source": [
    "for step,batch in enumerate(train_data):\n",
    "  #convert the image and label to jax.jnp.array\n",
    "  image = jnp.array(batch['image'])\n",
    "  if image.ndim == 2:\n",
    "    image = image[..., None]  # (28, 28, 1)\n",
    "  image = image[None, ...]      # (1, 28, 28, 1)\n",
    "  label = jnp.array([batch['label']])           # shape: (1,)\n",
    "  batch = {'image': image, 'label': label}\n",
    "  # Run optimization steps over training batches and compute batch metrics\n",
    "  state = train_step(state, batch) # get updated train state (which contains the updated parameters)\n",
    "  state = compute_metrics(state=state, batch=batch) # aggregate batch metrics\n",
    "\n",
    "  if (step+1) % num_steps_per_epoch == 0: # one training epoch has passed\n",
    "    for metric,value in state.metrics.compute().items(): # compute metrics\n",
    "      metrics_history[f'train_{metric}'].append(value) # record metrics\n",
    "    state = state.replace(metrics=state.metrics.empty()) # reset train_metrics for next training epoch\n",
    "\n",
    "    # Compute metrics on the test set after each training epoch\n",
    "    test_state = state\n",
    "    for test_batch in test_data:\n",
    "        #convert the image and label to jax.jnp.array\n",
    "      image = jnp.array(test_batch['image'])\n",
    "      if image.ndim == 2:\n",
    "        image = image[..., None]  # (28, 28, 1)\n",
    "      image = image[None, ...]      # (1, 28, 28, 1)\n",
    "      label = jnp.array([test_batch['label']])           # shape: (1,)\n",
    "      test_batch = {'image': image, 'label': label}\n",
    "      test_state = compute_metrics(state=test_state, batch=test_batch)\n",
    "\n",
    "    for metric,value in test_state.metrics.compute().items():\n",
    "      metrics_history[f'test_{metric}'].append(value)\n",
    "\n",
    "    print(f\"train epoch: {(step+1) // num_steps_per_epoch}, \"\n",
    "          f\"loss: {metrics_history['train_loss'][-1]}, \"\n",
    "          f\"accuracy: {metrics_history['train_accuracy'][-1] * 100}\")\n",
    "    print(f\"test epoch: {(step+1) // num_steps_per_epoch}, \"\n",
    "          f\"loss: {metrics_history['test_loss'][-1]}, \"\n",
    "          f\"accuracy: {metrics_history['test_accuracy'][-1] * 100}\")"
   ]
  },
  {
   "cell_type": "markdown",
   "id": "04f74021",
   "metadata": {},
   "source": [
    "### 指标可视化"
   ]
  },
  {
   "cell_type": "code",
   "execution_count": null,
   "id": "5eef4ab5",
   "metadata": {},
   "outputs": [],
   "source": [
    "import matplotlib.pyplot as plt  # Visualization\n",
    "\n",
    "# Plot loss and accuracy in subplots\n",
    "fig, (ax1, ax2) = plt.subplots(1, 2, figsize=(15, 5))\n",
    "ax1.set_title('Loss')\n",
    "ax2.set_title('Accuracy')\n",
    "for dataset in ('train','test'):\n",
    "  ax1.plot(metrics_history[f'{dataset}_loss'], label=f'{dataset}_loss')\n",
    "  ax2.plot(metrics_history[f'{dataset}_accuracy'], label=f'{dataset}_accuracy')\n",
    "ax1.legend()\n",
    "ax2.legend()\n",
    "plt.show()\n",
    "plt.clf()"
   ]
  },
  {
   "cell_type": "markdown",
   "id": "f6516893",
   "metadata": {},
   "source": [
    "### 完整训练代码"
   ]
  },
  {
   "cell_type": "code",
   "execution_count": 20,
   "id": "2180731b",
   "metadata": {},
   "outputs": [
    {
     "name": "stdout",
     "output_type": "stream",
     "text": [
      "train epoch: 1, loss: 0.20214499533176422, accuracy: 94.73333740234375\n",
      "test epoch: 1, loss: 0.19286806881427765, accuracy: 93.55999755859375\n",
      "train epoch: 2, loss: 0.08750319480895996, accuracy: 97.68333435058594\n",
      "test epoch: 2, loss: 0.14306960999965668, accuracy: 95.2300033569336\n",
      "train epoch: 3, loss: 0.06927433609962463, accuracy: 98.03333282470703\n",
      "test epoch: 3, loss: 0.08870075643062592, accuracy: 97.12999725341797\n",
      "train epoch: 4, loss: 0.05574699491262436, accuracy: 98.44999694824219\n",
      "test epoch: 4, loss: 0.09710337221622467, accuracy: 96.86000061035156\n",
      "train epoch: 5, loss: 0.05529126152396202, accuracy: 98.41667175292969\n",
      "test epoch: 5, loss: 0.06792223453521729, accuracy: 97.82999420166016\n",
      "train epoch: 6, loss: 0.05345893278717995, accuracy: 98.58333587646484\n",
      "test epoch: 6, loss: 0.05715334415435791, accuracy: 98.1199951171875\n",
      "train epoch: 7, loss: 0.052290190011262894, accuracy: 98.71666717529297\n",
      "test epoch: 7, loss: 0.06417568773031235, accuracy: 97.93000030517578\n",
      "train epoch: 8, loss: 0.05295702442526817, accuracy: 98.61666870117188\n",
      "test epoch: 8, loss: 0.06083448976278305, accuracy: 97.97000122070312\n",
      "train epoch: 9, loss: 0.044686030596494675, accuracy: 98.68333435058594\n",
      "test epoch: 9, loss: 0.07136359810829163, accuracy: 97.79999542236328\n",
      "train epoch: 10, loss: 0.03249619901180267, accuracy: 99.06666564941406\n",
      "test epoch: 10, loss: 0.057317689061164856, accuracy: 97.93999481201172\n"
     ]
    }
   ],
   "source": [
    "from datasets import load_dataset,get_dataset_split_names\n",
    "from flax import linen as nn\n",
    "import matplotlib.pyplot as plt\n",
    "import jax.random as random\n",
    "from flax import struct \n",
    "from flax.training import train_state \n",
    "from clu import metrics\n",
    "import jax.numpy as jnp\n",
    "import optax\n",
    "import jax\n",
    "\n",
    "#定义神经网络\n",
    "class CNN(nn.Module):\n",
    "  @nn.compact\n",
    "  def __call__(self, x):\n",
    "    x = nn.Conv(features=32, kernel_size=(3, 3))(x)\n",
    "    x = nn.relu(x)\n",
    "    x = nn.avg_pool(x, window_shape=(2, 2), strides=(2, 2))\n",
    "    x = nn.Conv(features=64, kernel_size=(3, 3))(x)\n",
    "    x = nn.relu(x)\n",
    "    x = nn.avg_pool(x, window_shape=(2, 2), strides=(2, 2))\n",
    "    x = x.reshape((x.shape[0], -1))  # flatten\n",
    "    x = nn.Dense(features=256)(x)\n",
    "    x = nn.relu(x)\n",
    "    x = nn.Dense(features=10)(x)\n",
    "    return x\n",
    "\n",
    "#计算参数\n",
    "@struct.dataclass\n",
    "class Metrics(metrics.Collection):\n",
    "  accuracy: metrics.Accuracy\n",
    "  loss: metrics.Average.from_output('loss')\n",
    "@jax.jit\n",
    "def compute_metrics(*, state, batch):\n",
    "  logits = state.apply_fn({'params': state.params}, batch['image'])\n",
    "  loss = optax.softmax_cross_entropy_with_integer_labels(\n",
    "        logits=logits, labels=batch['label']).mean()\n",
    "  metric_updates = state.metrics.single_from_model_output(\n",
    "    logits=logits, labels=batch['label'], loss=loss)\n",
    "  metrics = state.metrics.merge(metric_updates)\n",
    "  state = state.replace(metrics=metrics)\n",
    "  return state\n",
    "#训练状态\n",
    "class TrainState(train_state.TrainState):\n",
    "  metrics: metrics\n",
    "\n",
    "def create_train_state(module, rng, learning_rate, momentum):\n",
    "  \"\"\"Creates an initial `TrainState`.\"\"\"\n",
    "  params = module.init(rng, jnp.ones([1, 28, 28, 1]))['params'] # initialize parameters by passing a template image\n",
    "  tx = optax.sgd(learning_rate, momentum)\n",
    "  return TrainState.create(\n",
    "      apply_fn=module.apply, params=params, tx=tx,\n",
    "      metrics=Metrics.empty())\n",
    "#训练过程\n",
    "@jax.jit\n",
    "def train_step(state, batch):\n",
    "  \"\"\"Train for a single step.\"\"\"\n",
    "  def loss_fn(params):\n",
    "    logits = state.apply_fn({'params': params}, batch['image'])\n",
    "    loss = optax.softmax_cross_entropy_with_integer_labels(\n",
    "        logits=logits, labels=batch['label']).mean()\n",
    "    return loss\n",
    "  grad_fn = jax.grad(loss_fn)\n",
    "  grads = grad_fn(state.params)\n",
    "  state = state.apply_gradients(grads=grads)\n",
    "  return state\n",
    "\n",
    "\n",
    "#定义必需数据\n",
    "dataset = load_dataset(\"ylecun/mnist\")\n",
    "train_data = dataset[\"train\"]\n",
    "test_data = dataset[\"test\"]\n",
    "num_epochs = 10\n",
    "batch_size = 32\n",
    "init_rng = random.PRNGKey(42)\n",
    "learning_rate = 1e-4\n",
    "momentum = 0.9\n",
    "model = CNN()\n",
    "state = create_train_state(model, init_rng, learning_rate, momentum)\n",
    "del init_rng  # Must not be used anymore.\n",
    "num_steps_per_epoch = len(train_data) // num_epochs\n",
    "metrics_history = {'train_loss': [],\n",
    "                   'train_accuracy': [],\n",
    "                   'test_loss': [],\n",
    "                   'test_accuracy': []}\n",
    "\n",
    "\n",
    "for step,batch in enumerate(train_data):\n",
    "  #convert the image and label to jax.jnp.array\n",
    "  image = jnp.array(batch['image'])\n",
    "  if image.ndim == 2:\n",
    "    image = image[..., None]  # (28, 28, 1)\n",
    "  image = image[None, ...]      # (1, 28, 28, 1)\n",
    "  label = jnp.array([batch['label']])           # shape: (1,)\n",
    "  batch = {'image': image, 'label': label}\n",
    "  # Run optimization steps over training batches and compute batch metrics\n",
    "  state = train_step(state, batch) # get updated train state (which contains the updated parameters)\n",
    "  state = compute_metrics(state=state, batch=batch) # aggregate batch metrics\n",
    "\n",
    "  if (step+1) % num_steps_per_epoch == 0: # one training epoch has passed\n",
    "    for metric,value in state.metrics.compute().items(): # compute metrics\n",
    "      metrics_history[f'train_{metric}'].append(value) # record metrics\n",
    "    state = state.replace(metrics=state.metrics.empty()) # reset train_metrics for next training epoch\n",
    "\n",
    "    # Compute metrics on the test set after each training epoch\n",
    "    test_state = state\n",
    "    for test_batch in test_data:\n",
    "        #convert the image and label to jax.jnp.array\n",
    "      image = jnp.array(test_batch['image'])\n",
    "      if image.ndim == 2:\n",
    "        image = image[..., None]  # (28, 28, 1)\n",
    "      image = image[None, ...]      # (1, 28, 28, 1)\n",
    "      label = jnp.array([test_batch['label']])           # shape: (1,)\n",
    "      test_batch = {'image': image, 'label': label}\n",
    "      test_state = compute_metrics(state=test_state, batch=test_batch)\n",
    "\n",
    "    for metric,value in test_state.metrics.compute().items():\n",
    "      metrics_history[f'test_{metric}'].append(value)\n",
    "\n",
    "    print(f\"train epoch: {(step+1) // num_steps_per_epoch}, \"\n",
    "          f\"loss: {metrics_history['train_loss'][-1]}, \"\n",
    "          f\"accuracy: {metrics_history['train_accuracy'][-1] * 100}\")\n",
    "    print(f\"test epoch: {(step+1) // num_steps_per_epoch}, \"\n",
    "          f\"loss: {metrics_history['test_loss'][-1]}, \"\n",
    "          f\"accuracy: {metrics_history['test_accuracy'][-1] * 100}\")"
   ]
  },
  {
   "cell_type": "code",
   "execution_count": 21,
   "id": "90d2e293",
   "metadata": {},
   "outputs": [
    {
     "data": {
      "image/png": "[encoded data removed]",
      "text/plain": [
       "<Figure size 1500x500 with 2 Axes>"
      ]
     },
     "metadata": {},
     "output_type": "display_data"
    },
    {
     "data": {
      "text/plain": [
       "<Figure size 640x480 with 0 Axes>"
      ]
     },
     "metadata": {},
     "output_type": "display_data"
    }
   ],
   "source": [
    "import matplotlib.pyplot as plt  # Visualization\n",
    "\n",
    "# Plot loss and accuracy in subplots\n",
    "fig, (ax1, ax2) = plt.subplots(1, 2, figsize=(15, 5))\n",
    "ax1.set_title('Loss')\n",
    "ax2.set_title('Accuracy')\n",
    "for dataset in ('train','test'):\n",
    "  ax1.plot(metrics_history[f'{dataset}_loss'], label=f'{dataset}_loss')\n",
    "  ax2.plot(metrics_history[f'{dataset}_accuracy'], label=f'{dataset}_accuracy')\n",
    "ax1.legend()\n",
    "ax2.legend()\n",
    "plt.show()\n",
    "plt.clf()"
   ]
  }
 ],
 "metadata": {
  "kernelspec": {
   "display_name": ".venv (3.13.7)",
   "language": "python",
   "name": "python3"
  },
  "language_info": {
   "codemirror_mode": {
    "name": "ipython",
    "version": 3
   },
   "file_extension": ".py",
   "mimetype": "text/x-python",
   "name": "python",
   "nbconvert_exporter": "python",
   "pygments_lexer": "ipython3",
   "version": "3.13.7"
  }
 },
 "nbformat": 4,
 "nbformat_minor": 5
}
